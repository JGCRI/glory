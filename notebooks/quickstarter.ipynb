{
 "cells": [
  {
   "cell_type": "code",
   "execution_count": null,
   "outputs": [],
   "source": [
    "import glory\n",
    "\n",
    "# get glory example dataset\n",
    "glory.get_example_data()\n",
    "\n",
    "example_dir = glory.default_download_dir"
   ],
   "metadata": {
    "collapsed": false
   },
   "id": "72902990ddbd1cd2"
  },
  {
   "cell_type": "code",
   "execution_count": null,
   "outputs": [],
   "source": [
    "import os\n",
    "\n",
    "# modify the corresponding directories (e.g., root and gcam exe) in the yaml file\n",
    "config_file = os.path.join(example_dir, 'example_config.yml')\n",
    "\n",
    "# read config file\n",
    "config = glory.ConfigReader(config_file)\n",
    "print(config.__dict__)"
   ],
   "metadata": {
    "collapsed": false
   },
   "id": "7746897dce3e4800"
  },
  {
   "cell_type": "code",
   "execution_count": null,
   "id": "2244cdad-9cf6-4c8a-bcdc-1feac9be5af6",
   "metadata": {},
   "outputs": [],
   "source": [
    "# run glory model\n",
    "glory.run_model(config_file=config_file)"
   ]
  }
 ],
 "metadata": {
  "kernelspec": {
   "name": "python3",
   "language": "python",
   "display_name": "Python 3 (ipykernel)"
  },
  "language_info": {
   "codemirror_mode": {
    "name": "ipython",
    "version": 3
   },
   "file_extension": ".py",
   "mimetype": "text/x-python",
   "name": "python",
   "nbconvert_exporter": "python",
   "pygments_lexer": "ipython3",
   "version": "3.9.4"
  }
 },
 "nbformat": 4,
 "nbformat_minor": 5
}
